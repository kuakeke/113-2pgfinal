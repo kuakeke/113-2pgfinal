{
  "nbformat": 4,
  "nbformat_minor": 0,
  "metadata": {
    "colab": {
      "provenance": [],
      "include_colab_link": true
    },
    "kernelspec": {
      "name": "python3",
      "display_name": "Python 3"
    },
    "language_info": {
      "name": "python"
    }
  },
  "cells": [
    {
      "cell_type": "markdown",
      "metadata": {
        "id": "view-in-github",
        "colab_type": "text"
      },
      "source": [
        "<a href=\"https://colab.research.google.com/github/kuakeke/113-2pgfinal/blob/main/%E7%A8%8B%E5%BC%8F%E8%AA%9E%E8%A8%80_%E6%9C%9F%E6%9C%AB%E5%B0%88%E9%A1%8C.ipynb\" target=\"_parent\"><img src=\"https://colab.research.google.com/assets/colab-badge.svg\" alt=\"Open In Colab\"/></a>"
      ]
    },
    {
      "cell_type": "markdown",
      "source": [
        "# 113-2程式語言 期末專題\n",
        "\n",
        "柯昱葶 國文115級 41120122L\n",
        "\n",
        "程式名稱：試題分析計算機\n",
        "\n",
        "概要：學習評量的試題分析計算機。供老師計算一份試題的難度、鑑別度、信度。我在網絡上找不到公開的計算機，就想製作一個免費計算機供老師使用。老師將一份批改中的n題ABCD選擇題的試題和正確答案，透過這個程式可以計算出這份試卷的難度、鑑別度、信度，以及可看見k-mean聚類圖表，和AI分析建議。"
      ],
      "metadata": {
        "id": "spUBPzeTucpq"
      }
    },
    {
      "cell_type": "markdown",
      "source": [
        "操作方式：\n",
        "1. 點擊以下“輸入成績”鏈接。\n",
        "2. 在第一頁輸入學生們的ABCD作答答案，可自行增加學生（S）和題目（Q）的欄位。\n",
        "3. 在第二頁輸入正確答案，可自行增加題目（Q）的欄位。\n",
        "4. 回到程式頁面點擊執行。\n",
        "5. 此程式會自動下載分析結果，excel檔案和k-mean聚類圖表。\n",
        "\n",
        "**輸入成績**\n",
        "\n",
        "https://docs.google.com/spreadsheets/d/1NOiihN2KOGudwPLvpgVpArZwz8vJ4oEUtY1KjfEBiTg/edit?usp=sharing"
      ],
      "metadata": {
        "id": "TilcH63EF6uK"
      }
    },
    {
      "cell_type": "code",
      "source": [
        "import numpy as np\n",
        "from sklearn.cluster import KMeans\n",
        "from sklearn.decomposition import PCA\n",
        "import matplotlib.pyplot as plt\n",
        "import seaborn as sns\n",
        "import plotly.express as px"
      ],
      "metadata": {
        "id": "0NyImQv2nDvt"
      },
      "execution_count": null,
      "outputs": []
    },
    {
      "cell_type": "code",
      "source": [
        "from google.colab import auth\n",
        "auth.authenticate_user()\n",
        "\n",
        "import gspread\n",
        "from google.auth import default\n",
        "creds, _ = default()\n",
        "\n",
        "gc = gspread.authorize(creds)"
      ],
      "metadata": {
        "id": "dnl9nwEMly0k"
      },
      "execution_count": null,
      "outputs": []
    },
    {
      "cell_type": "code",
      "source": [
        "import pandas as pd\n",
        "# read data and put it in a dataframe\n",
        "# 在 google 工作表載入 gsheets\n",
        "gsheets = gc.open_by_url('https://docs.google.com/spreadsheets/d/1NOiihN2KOGudwPLvpgVpArZwz8vJ4oEUtY1KjfEBiTg/edit?usp=sharing')"
      ],
      "metadata": {
        "id": "dmqOUyWkVzj9"
      },
      "execution_count": null,
      "outputs": []
    },
    {
      "cell_type": "code",
      "source": [
        "from gspread_dataframe import get_as_dataframe\n",
        "ws_students = gsheets.get_worksheet(0)\n",
        "df_students = get_as_dataframe(ws_students, dtype=str).dropna(how='all')\n",
        "first_col = df_students.columns[0]\n",
        "df_students = df_students.set_index(first_col)"
      ],
      "metadata": {
        "id": "d9FnE6YDQ75l"
      },
      "execution_count": null,
      "outputs": []
    },
    {
      "cell_type": "code",
      "source": [
        "ws_answer = gsheets.get_worksheet(1)\n",
        "df_answer = get_as_dataframe(ws_answer, header=None).dropna(how='all')"
      ],
      "metadata": {
        "id": "AadZjrYPRa9i"
      },
      "execution_count": null,
      "outputs": []
    },
    {
      "cell_type": "code",
      "source": [
        "# 取出第2列作為正確答案（跳過題號欄）\n",
        "answer_key = df_answer.iloc[1, 0:].tolist()  # 第2列（index=1），跳過第1欄"
      ],
      "metadata": {
        "id": "6CjU9IopSqkO"
      },
      "execution_count": null,
      "outputs": []
    },
    {
      "cell_type": "code",
      "source": [
        "answer_key"
      ],
      "metadata": {
        "colab": {
          "base_uri": "https://localhost:8080/"
        },
        "id": "zZdN9j0fUjvU",
        "outputId": "0b4c6e34-765c-4653-b9f7-990a489d1cfa"
      },
      "execution_count": null,
      "outputs": [
        {
          "output_type": "execute_result",
          "data": {
            "text/plain": [
              "['A',\n",
              " 'B',\n",
              " 'C',\n",
              " 'D',\n",
              " 'A',\n",
              " 'B',\n",
              " 'C',\n",
              " 'D',\n",
              " 'A',\n",
              " 'B',\n",
              " 'A',\n",
              " 'B',\n",
              " 'C',\n",
              " 'D',\n",
              " 'A',\n",
              " 'B',\n",
              " 'C',\n",
              " 'D',\n",
              " 'A',\n",
              " 'B']"
            ]
          },
          "metadata": {},
          "execution_count": 63
        }
      ]
    },
    {
      "cell_type": "code",
      "source": [
        "# 檢查題目數量是否一致\n",
        "assert df_students.shape[1] == len(answer_key), \"題目數與正確答案數不符！\"\n",
        "\n",
        "# 比對學生答案與正確答案\n",
        "df_result = df_students.eq(answer_key).astype(int)\n",
        "\n",
        "# 加上總分欄\n",
        "df_result['Total'] = df_result.sum(axis=1)\n",
        "\n",
        "# 顯示前幾筆結果\n",
        "df_result_reset = df_result.reset_index()\n",
        "df_result_reset"
      ],
      "metadata": {
        "colab": {
          "base_uri": "https://localhost:8080/",
          "height": 392
        },
        "id": "sbvSkcJGScRo",
        "outputId": "0c9da6be-2c05-4e83-ce4c-735ec20d3cb1"
      },
      "execution_count": null,
      "outputs": [
        {
          "output_type": "execute_result",
          "data": {
            "text/plain": [
              "  question  Q1  Q2  Q3  Q4  Q5  Q6  Q7  Q8  Q9  ...  Q12  Q13  Q14  Q15  Q16  \\\n",
              "0       S1   1   1   1   1   1   1   1   1   1  ...    1    1    1    1    1   \n",
              "1       S2   1   0   0   0   0   1   0   0   0  ...    0    0    0    0    1   \n",
              "2       S3   1   1   1   1   1   0   0   0   0  ...    1    1    1    1    0   \n",
              "3       S4   1   0   1   0   0   0   0   0   0  ...    0    1    0    0    0   \n",
              "4       S5   0   0   1   1   1   1   1   1   1  ...    0    1    1    1    1   \n",
              "5       S6   1   1   1   1   1   1   1   1   1  ...    1    1    1    1    1   \n",
              "6       S7   1   1   1   1   1   1   1   0   0  ...    1    1    1    1    1   \n",
              "7       S8   1   1   1   1   1   0   0   0   0  ...    1    1    1    1    0   \n",
              "8       S9   0   0   0   0   0   0   0   0   0  ...    0    0    0    0    0   \n",
              "9      S10   0   0   0   0   0   0   0   0   1  ...    0    0    0    0    0   \n",
              "\n",
              "   Q17  Q18  Q19  Q20  Total  \n",
              "0    1    1    1    0     18  \n",
              "1    0    0    0    0      4  \n",
              "2    0    0    0    0     10  \n",
              "3    0    0    0    0      4  \n",
              "4    1    1    1    0     14  \n",
              "5    1    1    1    0     18  \n",
              "6    1    0    0    0     14  \n",
              "7    0    0    0    0     10  \n",
              "8    0    0    0    1      2  \n",
              "9    0    0    1    0      2  \n",
              "\n",
              "[10 rows x 22 columns]"
            ],
            "text/html": [
              "\n",
              "  <div id=\"df-715d52de-ddc1-4c69-967f-5cfdcdb35e80\" class=\"colab-df-container\">\n",
              "    <div>\n",
              "<style scoped>\n",
              "    .dataframe tbody tr th:only-of-type {\n",
              "        vertical-align: middle;\n",
              "    }\n",
              "\n",
              "    .dataframe tbody tr th {\n",
              "        vertical-align: top;\n",
              "    }\n",
              "\n",
              "    .dataframe thead th {\n",
              "        text-align: right;\n",
              "    }\n",
              "</style>\n",
              "<table border=\"1\" class=\"dataframe\">\n",
              "  <thead>\n",
              "    <tr style=\"text-align: right;\">\n",
              "      <th></th>\n",
              "      <th>question</th>\n",
              "      <th>Q1</th>\n",
              "      <th>Q2</th>\n",
              "      <th>Q3</th>\n",
              "      <th>Q4</th>\n",
              "      <th>Q5</th>\n",
              "      <th>Q6</th>\n",
              "      <th>Q7</th>\n",
              "      <th>Q8</th>\n",
              "      <th>Q9</th>\n",
              "      <th>...</th>\n",
              "      <th>Q12</th>\n",
              "      <th>Q13</th>\n",
              "      <th>Q14</th>\n",
              "      <th>Q15</th>\n",
              "      <th>Q16</th>\n",
              "      <th>Q17</th>\n",
              "      <th>Q18</th>\n",
              "      <th>Q19</th>\n",
              "      <th>Q20</th>\n",
              "      <th>Total</th>\n",
              "    </tr>\n",
              "  </thead>\n",
              "  <tbody>\n",
              "    <tr>\n",
              "      <th>0</th>\n",
              "      <td>S1</td>\n",
              "      <td>1</td>\n",
              "      <td>1</td>\n",
              "      <td>1</td>\n",
              "      <td>1</td>\n",
              "      <td>1</td>\n",
              "      <td>1</td>\n",
              "      <td>1</td>\n",
              "      <td>1</td>\n",
              "      <td>1</td>\n",
              "      <td>...</td>\n",
              "      <td>1</td>\n",
              "      <td>1</td>\n",
              "      <td>1</td>\n",
              "      <td>1</td>\n",
              "      <td>1</td>\n",
              "      <td>1</td>\n",
              "      <td>1</td>\n",
              "      <td>1</td>\n",
              "      <td>0</td>\n",
              "      <td>18</td>\n",
              "    </tr>\n",
              "    <tr>\n",
              "      <th>1</th>\n",
              "      <td>S2</td>\n",
              "      <td>1</td>\n",
              "      <td>0</td>\n",
              "      <td>0</td>\n",
              "      <td>0</td>\n",
              "      <td>0</td>\n",
              "      <td>1</td>\n",
              "      <td>0</td>\n",
              "      <td>0</td>\n",
              "      <td>0</td>\n",
              "      <td>...</td>\n",
              "      <td>0</td>\n",
              "      <td>0</td>\n",
              "      <td>0</td>\n",
              "      <td>0</td>\n",
              "      <td>1</td>\n",
              "      <td>0</td>\n",
              "      <td>0</td>\n",
              "      <td>0</td>\n",
              "      <td>0</td>\n",
              "      <td>4</td>\n",
              "    </tr>\n",
              "    <tr>\n",
              "      <th>2</th>\n",
              "      <td>S3</td>\n",
              "      <td>1</td>\n",
              "      <td>1</td>\n",
              "      <td>1</td>\n",
              "      <td>1</td>\n",
              "      <td>1</td>\n",
              "      <td>0</td>\n",
              "      <td>0</td>\n",
              "      <td>0</td>\n",
              "      <td>0</td>\n",
              "      <td>...</td>\n",
              "      <td>1</td>\n",
              "      <td>1</td>\n",
              "      <td>1</td>\n",
              "      <td>1</td>\n",
              "      <td>0</td>\n",
              "      <td>0</td>\n",
              "      <td>0</td>\n",
              "      <td>0</td>\n",
              "      <td>0</td>\n",
              "      <td>10</td>\n",
              "    </tr>\n",
              "    <tr>\n",
              "      <th>3</th>\n",
              "      <td>S4</td>\n",
              "      <td>1</td>\n",
              "      <td>0</td>\n",
              "      <td>1</td>\n",
              "      <td>0</td>\n",
              "      <td>0</td>\n",
              "      <td>0</td>\n",
              "      <td>0</td>\n",
              "      <td>0</td>\n",
              "      <td>0</td>\n",
              "      <td>...</td>\n",
              "      <td>0</td>\n",
              "      <td>1</td>\n",
              "      <td>0</td>\n",
              "      <td>0</td>\n",
              "      <td>0</td>\n",
              "      <td>0</td>\n",
              "      <td>0</td>\n",
              "      <td>0</td>\n",
              "      <td>0</td>\n",
              "      <td>4</td>\n",
              "    </tr>\n",
              "    <tr>\n",
              "      <th>4</th>\n",
              "      <td>S5</td>\n",
              "      <td>0</td>\n",
              "      <td>0</td>\n",
              "      <td>1</td>\n",
              "      <td>1</td>\n",
              "      <td>1</td>\n",
              "      <td>1</td>\n",
              "      <td>1</td>\n",
              "      <td>1</td>\n",
              "      <td>1</td>\n",
              "      <td>...</td>\n",
              "      <td>0</td>\n",
              "      <td>1</td>\n",
              "      <td>1</td>\n",
              "      <td>1</td>\n",
              "      <td>1</td>\n",
              "      <td>1</td>\n",
              "      <td>1</td>\n",
              "      <td>1</td>\n",
              "      <td>0</td>\n",
              "      <td>14</td>\n",
              "    </tr>\n",
              "    <tr>\n",
              "      <th>5</th>\n",
              "      <td>S6</td>\n",
              "      <td>1</td>\n",
              "      <td>1</td>\n",
              "      <td>1</td>\n",
              "      <td>1</td>\n",
              "      <td>1</td>\n",
              "      <td>1</td>\n",
              "      <td>1</td>\n",
              "      <td>1</td>\n",
              "      <td>1</td>\n",
              "      <td>...</td>\n",
              "      <td>1</td>\n",
              "      <td>1</td>\n",
              "      <td>1</td>\n",
              "      <td>1</td>\n",
              "      <td>1</td>\n",
              "      <td>1</td>\n",
              "      <td>1</td>\n",
              "      <td>1</td>\n",
              "      <td>0</td>\n",
              "      <td>18</td>\n",
              "    </tr>\n",
              "    <tr>\n",
              "      <th>6</th>\n",
              "      <td>S7</td>\n",
              "      <td>1</td>\n",
              "      <td>1</td>\n",
              "      <td>1</td>\n",
              "      <td>1</td>\n",
              "      <td>1</td>\n",
              "      <td>1</td>\n",
              "      <td>1</td>\n",
              "      <td>0</td>\n",
              "      <td>0</td>\n",
              "      <td>...</td>\n",
              "      <td>1</td>\n",
              "      <td>1</td>\n",
              "      <td>1</td>\n",
              "      <td>1</td>\n",
              "      <td>1</td>\n",
              "      <td>1</td>\n",
              "      <td>0</td>\n",
              "      <td>0</td>\n",
              "      <td>0</td>\n",
              "      <td>14</td>\n",
              "    </tr>\n",
              "    <tr>\n",
              "      <th>7</th>\n",
              "      <td>S8</td>\n",
              "      <td>1</td>\n",
              "      <td>1</td>\n",
              "      <td>1</td>\n",
              "      <td>1</td>\n",
              "      <td>1</td>\n",
              "      <td>0</td>\n",
              "      <td>0</td>\n",
              "      <td>0</td>\n",
              "      <td>0</td>\n",
              "      <td>...</td>\n",
              "      <td>1</td>\n",
              "      <td>1</td>\n",
              "      <td>1</td>\n",
              "      <td>1</td>\n",
              "      <td>0</td>\n",
              "      <td>0</td>\n",
              "      <td>0</td>\n",
              "      <td>0</td>\n",
              "      <td>0</td>\n",
              "      <td>10</td>\n",
              "    </tr>\n",
              "    <tr>\n",
              "      <th>8</th>\n",
              "      <td>S9</td>\n",
              "      <td>0</td>\n",
              "      <td>0</td>\n",
              "      <td>0</td>\n",
              "      <td>0</td>\n",
              "      <td>0</td>\n",
              "      <td>0</td>\n",
              "      <td>0</td>\n",
              "      <td>0</td>\n",
              "      <td>0</td>\n",
              "      <td>...</td>\n",
              "      <td>0</td>\n",
              "      <td>0</td>\n",
              "      <td>0</td>\n",
              "      <td>0</td>\n",
              "      <td>0</td>\n",
              "      <td>0</td>\n",
              "      <td>0</td>\n",
              "      <td>0</td>\n",
              "      <td>1</td>\n",
              "      <td>2</td>\n",
              "    </tr>\n",
              "    <tr>\n",
              "      <th>9</th>\n",
              "      <td>S10</td>\n",
              "      <td>0</td>\n",
              "      <td>0</td>\n",
              "      <td>0</td>\n",
              "      <td>0</td>\n",
              "      <td>0</td>\n",
              "      <td>0</td>\n",
              "      <td>0</td>\n",
              "      <td>0</td>\n",
              "      <td>1</td>\n",
              "      <td>...</td>\n",
              "      <td>0</td>\n",
              "      <td>0</td>\n",
              "      <td>0</td>\n",
              "      <td>0</td>\n",
              "      <td>0</td>\n",
              "      <td>0</td>\n",
              "      <td>0</td>\n",
              "      <td>1</td>\n",
              "      <td>0</td>\n",
              "      <td>2</td>\n",
              "    </tr>\n",
              "  </tbody>\n",
              "</table>\n",
              "<p>10 rows × 22 columns</p>\n",
              "</div>\n",
              "    <div class=\"colab-df-buttons\">\n",
              "\n",
              "  <div class=\"colab-df-container\">\n",
              "    <button class=\"colab-df-convert\" onclick=\"convertToInteractive('df-715d52de-ddc1-4c69-967f-5cfdcdb35e80')\"\n",
              "            title=\"Convert this dataframe to an interactive table.\"\n",
              "            style=\"display:none;\">\n",
              "\n",
              "  <svg xmlns=\"http://www.w3.org/2000/svg\" height=\"24px\" viewBox=\"0 -960 960 960\">\n",
              "    <path d=\"M120-120v-720h720v720H120Zm60-500h600v-160H180v160Zm220 220h160v-160H400v160Zm0 220h160v-160H400v160ZM180-400h160v-160H180v160Zm440 0h160v-160H620v160ZM180-180h160v-160H180v160Zm440 0h160v-160H620v160Z\"/>\n",
              "  </svg>\n",
              "    </button>\n",
              "\n",
              "  <style>\n",
              "    .colab-df-container {\n",
              "      display:flex;\n",
              "      gap: 12px;\n",
              "    }\n",
              "\n",
              "    .colab-df-convert {\n",
              "      background-color: #E8F0FE;\n",
              "      border: none;\n",
              "      border-radius: 50%;\n",
              "      cursor: pointer;\n",
              "      display: none;\n",
              "      fill: #1967D2;\n",
              "      height: 32px;\n",
              "      padding: 0 0 0 0;\n",
              "      width: 32px;\n",
              "    }\n",
              "\n",
              "    .colab-df-convert:hover {\n",
              "      background-color: #E2EBFA;\n",
              "      box-shadow: 0px 1px 2px rgba(60, 64, 67, 0.3), 0px 1px 3px 1px rgba(60, 64, 67, 0.15);\n",
              "      fill: #174EA6;\n",
              "    }\n",
              "\n",
              "    .colab-df-buttons div {\n",
              "      margin-bottom: 4px;\n",
              "    }\n",
              "\n",
              "    [theme=dark] .colab-df-convert {\n",
              "      background-color: #3B4455;\n",
              "      fill: #D2E3FC;\n",
              "    }\n",
              "\n",
              "    [theme=dark] .colab-df-convert:hover {\n",
              "      background-color: #434B5C;\n",
              "      box-shadow: 0px 1px 3px 1px rgba(0, 0, 0, 0.15);\n",
              "      filter: drop-shadow(0px 1px 2px rgba(0, 0, 0, 0.3));\n",
              "      fill: #FFFFFF;\n",
              "    }\n",
              "  </style>\n",
              "\n",
              "    <script>\n",
              "      const buttonEl =\n",
              "        document.querySelector('#df-715d52de-ddc1-4c69-967f-5cfdcdb35e80 button.colab-df-convert');\n",
              "      buttonEl.style.display =\n",
              "        google.colab.kernel.accessAllowed ? 'block' : 'none';\n",
              "\n",
              "      async function convertToInteractive(key) {\n",
              "        const element = document.querySelector('#df-715d52de-ddc1-4c69-967f-5cfdcdb35e80');\n",
              "        const dataTable =\n",
              "          await google.colab.kernel.invokeFunction('convertToInteractive',\n",
              "                                                    [key], {});\n",
              "        if (!dataTable) return;\n",
              "\n",
              "        const docLinkHtml = 'Like what you see? Visit the ' +\n",
              "          '<a target=\"_blank\" href=https://colab.research.google.com/notebooks/data_table.ipynb>data table notebook</a>'\n",
              "          + ' to learn more about interactive tables.';\n",
              "        element.innerHTML = '';\n",
              "        dataTable['output_type'] = 'display_data';\n",
              "        await google.colab.output.renderOutput(dataTable, element);\n",
              "        const docLink = document.createElement('div');\n",
              "        docLink.innerHTML = docLinkHtml;\n",
              "        element.appendChild(docLink);\n",
              "      }\n",
              "    </script>\n",
              "  </div>\n",
              "\n",
              "\n",
              "    <div id=\"df-6e19f24e-6a06-4204-9450-815f41175d49\">\n",
              "      <button class=\"colab-df-quickchart\" onclick=\"quickchart('df-6e19f24e-6a06-4204-9450-815f41175d49')\"\n",
              "                title=\"Suggest charts\"\n",
              "                style=\"display:none;\">\n",
              "\n",
              "<svg xmlns=\"http://www.w3.org/2000/svg\" height=\"24px\"viewBox=\"0 0 24 24\"\n",
              "     width=\"24px\">\n",
              "    <g>\n",
              "        <path d=\"M19 3H5c-1.1 0-2 .9-2 2v14c0 1.1.9 2 2 2h14c1.1 0 2-.9 2-2V5c0-1.1-.9-2-2-2zM9 17H7v-7h2v7zm4 0h-2V7h2v10zm4 0h-2v-4h2v4z\"/>\n",
              "    </g>\n",
              "</svg>\n",
              "      </button>\n",
              "\n",
              "<style>\n",
              "  .colab-df-quickchart {\n",
              "      --bg-color: #E8F0FE;\n",
              "      --fill-color: #1967D2;\n",
              "      --hover-bg-color: #E2EBFA;\n",
              "      --hover-fill-color: #174EA6;\n",
              "      --disabled-fill-color: #AAA;\n",
              "      --disabled-bg-color: #DDD;\n",
              "  }\n",
              "\n",
              "  [theme=dark] .colab-df-quickchart {\n",
              "      --bg-color: #3B4455;\n",
              "      --fill-color: #D2E3FC;\n",
              "      --hover-bg-color: #434B5C;\n",
              "      --hover-fill-color: #FFFFFF;\n",
              "      --disabled-bg-color: #3B4455;\n",
              "      --disabled-fill-color: #666;\n",
              "  }\n",
              "\n",
              "  .colab-df-quickchart {\n",
              "    background-color: var(--bg-color);\n",
              "    border: none;\n",
              "    border-radius: 50%;\n",
              "    cursor: pointer;\n",
              "    display: none;\n",
              "    fill: var(--fill-color);\n",
              "    height: 32px;\n",
              "    padding: 0;\n",
              "    width: 32px;\n",
              "  }\n",
              "\n",
              "  .colab-df-quickchart:hover {\n",
              "    background-color: var(--hover-bg-color);\n",
              "    box-shadow: 0 1px 2px rgba(60, 64, 67, 0.3), 0 1px 3px 1px rgba(60, 64, 67, 0.15);\n",
              "    fill: var(--button-hover-fill-color);\n",
              "  }\n",
              "\n",
              "  .colab-df-quickchart-complete:disabled,\n",
              "  .colab-df-quickchart-complete:disabled:hover {\n",
              "    background-color: var(--disabled-bg-color);\n",
              "    fill: var(--disabled-fill-color);\n",
              "    box-shadow: none;\n",
              "  }\n",
              "\n",
              "  .colab-df-spinner {\n",
              "    border: 2px solid var(--fill-color);\n",
              "    border-color: transparent;\n",
              "    border-bottom-color: var(--fill-color);\n",
              "    animation:\n",
              "      spin 1s steps(1) infinite;\n",
              "  }\n",
              "\n",
              "  @keyframes spin {\n",
              "    0% {\n",
              "      border-color: transparent;\n",
              "      border-bottom-color: var(--fill-color);\n",
              "      border-left-color: var(--fill-color);\n",
              "    }\n",
              "    20% {\n",
              "      border-color: transparent;\n",
              "      border-left-color: var(--fill-color);\n",
              "      border-top-color: var(--fill-color);\n",
              "    }\n",
              "    30% {\n",
              "      border-color: transparent;\n",
              "      border-left-color: var(--fill-color);\n",
              "      border-top-color: var(--fill-color);\n",
              "      border-right-color: var(--fill-color);\n",
              "    }\n",
              "    40% {\n",
              "      border-color: transparent;\n",
              "      border-right-color: var(--fill-color);\n",
              "      border-top-color: var(--fill-color);\n",
              "    }\n",
              "    60% {\n",
              "      border-color: transparent;\n",
              "      border-right-color: var(--fill-color);\n",
              "    }\n",
              "    80% {\n",
              "      border-color: transparent;\n",
              "      border-right-color: var(--fill-color);\n",
              "      border-bottom-color: var(--fill-color);\n",
              "    }\n",
              "    90% {\n",
              "      border-color: transparent;\n",
              "      border-bottom-color: var(--fill-color);\n",
              "    }\n",
              "  }\n",
              "</style>\n",
              "\n",
              "      <script>\n",
              "        async function quickchart(key) {\n",
              "          const quickchartButtonEl =\n",
              "            document.querySelector('#' + key + ' button');\n",
              "          quickchartButtonEl.disabled = true;  // To prevent multiple clicks.\n",
              "          quickchartButtonEl.classList.add('colab-df-spinner');\n",
              "          try {\n",
              "            const charts = await google.colab.kernel.invokeFunction(\n",
              "                'suggestCharts', [key], {});\n",
              "          } catch (error) {\n",
              "            console.error('Error during call to suggestCharts:', error);\n",
              "          }\n",
              "          quickchartButtonEl.classList.remove('colab-df-spinner');\n",
              "          quickchartButtonEl.classList.add('colab-df-quickchart-complete');\n",
              "        }\n",
              "        (() => {\n",
              "          let quickchartButtonEl =\n",
              "            document.querySelector('#df-6e19f24e-6a06-4204-9450-815f41175d49 button');\n",
              "          quickchartButtonEl.style.display =\n",
              "            google.colab.kernel.accessAllowed ? 'block' : 'none';\n",
              "        })();\n",
              "      </script>\n",
              "    </div>\n",
              "\n",
              "  <div id=\"id_0cd66497-7382-47ec-b0e4-ca2f6227f5a1\">\n",
              "    <style>\n",
              "      .colab-df-generate {\n",
              "        background-color: #E8F0FE;\n",
              "        border: none;\n",
              "        border-radius: 50%;\n",
              "        cursor: pointer;\n",
              "        display: none;\n",
              "        fill: #1967D2;\n",
              "        height: 32px;\n",
              "        padding: 0 0 0 0;\n",
              "        width: 32px;\n",
              "      }\n",
              "\n",
              "      .colab-df-generate:hover {\n",
              "        background-color: #E2EBFA;\n",
              "        box-shadow: 0px 1px 2px rgba(60, 64, 67, 0.3), 0px 1px 3px 1px rgba(60, 64, 67, 0.15);\n",
              "        fill: #174EA6;\n",
              "      }\n",
              "\n",
              "      [theme=dark] .colab-df-generate {\n",
              "        background-color: #3B4455;\n",
              "        fill: #D2E3FC;\n",
              "      }\n",
              "\n",
              "      [theme=dark] .colab-df-generate:hover {\n",
              "        background-color: #434B5C;\n",
              "        box-shadow: 0px 1px 3px 1px rgba(0, 0, 0, 0.15);\n",
              "        filter: drop-shadow(0px 1px 2px rgba(0, 0, 0, 0.3));\n",
              "        fill: #FFFFFF;\n",
              "      }\n",
              "    </style>\n",
              "    <button class=\"colab-df-generate\" onclick=\"generateWithVariable('df_result_reset')\"\n",
              "            title=\"Generate code using this dataframe.\"\n",
              "            style=\"display:none;\">\n",
              "\n",
              "  <svg xmlns=\"http://www.w3.org/2000/svg\" height=\"24px\"viewBox=\"0 0 24 24\"\n",
              "       width=\"24px\">\n",
              "    <path d=\"M7,19H8.4L18.45,9,17,7.55,7,17.6ZM5,21V16.75L18.45,3.32a2,2,0,0,1,2.83,0l1.4,1.43a1.91,1.91,0,0,1,.58,1.4,1.91,1.91,0,0,1-.58,1.4L9.25,21ZM18.45,9,17,7.55Zm-12,3A5.31,5.31,0,0,0,4.9,8.1,5.31,5.31,0,0,0,1,6.5,5.31,5.31,0,0,0,4.9,4.9,5.31,5.31,0,0,0,6.5,1,5.31,5.31,0,0,0,8.1,4.9,5.31,5.31,0,0,0,12,6.5,5.46,5.46,0,0,0,6.5,12Z\"/>\n",
              "  </svg>\n",
              "    </button>\n",
              "    <script>\n",
              "      (() => {\n",
              "      const buttonEl =\n",
              "        document.querySelector('#id_0cd66497-7382-47ec-b0e4-ca2f6227f5a1 button.colab-df-generate');\n",
              "      buttonEl.style.display =\n",
              "        google.colab.kernel.accessAllowed ? 'block' : 'none';\n",
              "\n",
              "      buttonEl.onclick = () => {\n",
              "        google.colab.notebook.generateWithVariable('df_result_reset');\n",
              "      }\n",
              "      })();\n",
              "    </script>\n",
              "  </div>\n",
              "\n",
              "    </div>\n",
              "  </div>\n"
            ],
            "application/vnd.google.colaboratory.intrinsic+json": {
              "type": "dataframe",
              "variable_name": "df_result_reset"
            }
          },
          "metadata": {},
          "execution_count": 64
        }
      ]
    },
    {
      "cell_type": "code",
      "source": [
        "from gspread_dataframe import set_with_dataframe\n",
        "\n",
        "# Open the spreadsheet first\n",
        "spreadsheet = gc.open_by_url('https://docs.google.com/spreadsheets/d/1NOiihN2KOGudwPLvpgVpArZwz8vJ4oEUtY1KjfEBiTg/edit?usp=sharing')\n",
        "\n",
        "# 選擇要更新的工作表（選擇第三個工作表，索引為 2）\n",
        "worksheet = spreadsheet.get_worksheet(2)\n",
        "\n",
        "# 將 DataFrame 寫入 Google Sheets\n",
        "set_with_dataframe(worksheet, df_result_reset)"
      ],
      "metadata": {
        "id": "y9QwotYPQh5S"
      },
      "execution_count": null,
      "outputs": []
    },
    {
      "cell_type": "code",
      "source": [
        "df = df_result_reset.drop(columns=['Total'])"
      ],
      "metadata": {
        "id": "99y2LPVAZ0WB"
      },
      "execution_count": null,
      "outputs": []
    },
    {
      "cell_type": "code",
      "source": [
        "df = df.set_index(\"question\")"
      ],
      "metadata": {
        "id": "mBaJxyWCndvt"
      },
      "execution_count": null,
      "outputs": []
    },
    {
      "cell_type": "markdown",
      "source": [
        "高分組和低分組\n",
        "\n",
        "難度計算"
      ],
      "metadata": {
        "id": "2TEydkkPOwzw"
      }
    },
    {
      "cell_type": "code",
      "source": [
        "# 計算每位學生總分（或平均）\n",
        "df[\"score\"] = df.sum(axis=1)\n",
        "\n",
        "# 依總分排序\n",
        "sorted_students = df.sort_values(\"score\", ascending=False)\n",
        "n = len(sorted_students)\n",
        "group_size = round(n * 0.27)\n",
        "# 分組\n",
        "high_group = sorted_students.head(group_size).drop(columns=\"score\")\n",
        "low_group = sorted_students.tail(group_size).drop(columns=\"score\")\n",
        "\n",
        "# 計算每題高分組與低分組的正答率\n",
        "high_correct_rate = high_group.T.mean(axis=1)\n",
        "low_correct_rate = low_group.T.mean(axis=1)\n",
        "\n",
        "# 計算每題的難度（高+低平均）\n",
        "difficulty = (high_correct_rate + low_correct_rate) / 2\n",
        "\n",
        "# 四捨五入到小數點後兩位\n",
        "difficulty = difficulty.round(2)\n",
        "\n",
        "# 評鑑描述函式\n",
        "def get_evaluation_label(p):\n",
        "    if p >= 0.80:\n",
        "        return \"極容易\"\n",
        "    elif 0.60 <= p < 0.80:\n",
        "        return \"容易\"\n",
        "    elif 0.40 <= p < 0.60:\n",
        "        return \"難易適中\"\n",
        "    elif 0.20 <= p < 0.40:\n",
        "        return \"困難\"\n",
        "    else:\n",
        "        return \"極困難\"\n",
        "\n",
        "# 套用評鑑描述\n",
        "P = difficulty.apply(get_evaluation_label)"
      ],
      "metadata": {
        "id": "4Uuzghf2xVKi"
      },
      "execution_count": null,
      "outputs": []
    },
    {
      "cell_type": "markdown",
      "source": [
        "鑑別度計算"
      ],
      "metadata": {
        "id": "vWgE0M9cO3HL"
      }
    },
    {
      "cell_type": "code",
      "source": [
        "# 計算每題高分組與低分組的正答率\n",
        "high_correct_counts = high_group.T.sum(axis=1)\n",
        "low_correct_counts = low_group.T.sum(axis=1)\n",
        "\n",
        "# 計算鑑別度\n",
        "discrimination = (high_correct_counts - low_correct_counts) / (n / 2)\n",
        "\n",
        "# 四捨五入到小數點後兩位\n",
        "discrimination = discrimination.round(2)\n",
        "\n",
        "# 評鑑描述函式\n",
        "def get_evaluation_label(d):\n",
        "    if d >= 0.40:\n",
        "        return \"極佳的試題\"\n",
        "    elif 0.30 <= d < 0.40:\n",
        "        return \"尚可的試題，可能需要稍加改進\"\n",
        "    elif 0.20 <= d < 0.30:\n",
        "        return \"不佳的試題，必須加以改進，或棄卻\"\n",
        "    else:\n",
        "        return \"極差的試題，應棄卻\"\n",
        "\n",
        "# 套用評鑑描述\n",
        "evaluation = discrimination.apply(get_evaluation_label)\n"
      ],
      "metadata": {
        "id": "of-fTW64UVxL"
      },
      "execution_count": null,
      "outputs": []
    },
    {
      "cell_type": "code",
      "source": [
        "# 合併成 DataFrame\n",
        "d_df = pd.DataFrame({\n",
        "    \"題號\": high_correct_rate.index,\n",
        "    \"高分組答對率\": high_correct_rate,\n",
        "    \"高分組答對數\": high_correct_counts,\n",
        "    \"低分組答對率\": low_correct_rate,\n",
        "    \"低分組答對數\": low_correct_counts,\n",
        "    \"難度\": difficulty,\n",
        "    \"鑑別度\": discrimination,\n",
        "    \"鑑別評鑑\": evaluation,\n",
        "    \"難易評鑑\": P\n",
        "})\n",
        "\n",
        "print(d_df)"
      ],
      "metadata": {
        "colab": {
          "base_uri": "https://localhost:8080/"
        },
        "id": "msPeHoeSZvX1",
        "outputId": "658244ee-0237-447d-d29b-981a56a4fd41"
      },
      "execution_count": null,
      "outputs": [
        {
          "output_type": "stream",
          "name": "stdout",
          "text": [
            "      題號    高分組答對率  高分組答對數    低分組答對率  低分組答對數    難度  鑑別度              鑑別評鑑  \\\n",
            "Q1    Q1  1.000000       3  0.333333       1  0.67  0.4             極佳的試題   \n",
            "Q2    Q2  1.000000       3  0.000000       0  0.50  0.6             極佳的試題   \n",
            "Q3    Q3  1.000000       3  0.333333       1  0.67  0.4             極佳的試題   \n",
            "Q4    Q4  1.000000       3  0.000000       0  0.50  0.6             極佳的試題   \n",
            "Q5    Q5  1.000000       3  0.000000       0  0.50  0.6             極佳的試題   \n",
            "Q6    Q6  1.000000       3  0.000000       0  0.50  0.6             極佳的試題   \n",
            "Q7    Q7  1.000000       3  0.000000       0  0.50  0.6             極佳的試題   \n",
            "Q8    Q8  0.666667       2  0.000000       0  0.33  0.4             極佳的試題   \n",
            "Q9    Q9  0.666667       2  0.333333       1  0.50  0.2  不佳的試題，必須加以改進，或棄卻   \n",
            "Q10  Q10  0.000000       0  0.333333       1  0.17 -0.2         極差的試題，應棄卻   \n",
            "Q11  Q11  1.000000       3  0.333333       1  0.67  0.4             極佳的試題   \n",
            "Q12  Q12  1.000000       3  0.000000       0  0.50  0.6             極佳的試題   \n",
            "Q13  Q13  1.000000       3  0.333333       1  0.67  0.4             極佳的試題   \n",
            "Q14  Q14  1.000000       3  0.000000       0  0.50  0.6             極佳的試題   \n",
            "Q15  Q15  1.000000       3  0.000000       0  0.50  0.6             極佳的試題   \n",
            "Q16  Q16  1.000000       3  0.000000       0  0.50  0.6             極佳的試題   \n",
            "Q17  Q17  1.000000       3  0.000000       0  0.50  0.6             極佳的試題   \n",
            "Q18  Q18  0.666667       2  0.000000       0  0.33  0.4             極佳的試題   \n",
            "Q19  Q19  0.666667       2  0.333333       1  0.50  0.2  不佳的試題，必須加以改進，或棄卻   \n",
            "Q20  Q20  0.000000       0  0.333333       1  0.17 -0.2         極差的試題，應棄卻   \n",
            "\n",
            "     難易評鑑  \n",
            "Q1     容易  \n",
            "Q2   難易適中  \n",
            "Q3     容易  \n",
            "Q4   難易適中  \n",
            "Q5   難易適中  \n",
            "Q6   難易適中  \n",
            "Q7   難易適中  \n",
            "Q8     困難  \n",
            "Q9   難易適中  \n",
            "Q10   極困難  \n",
            "Q11    容易  \n",
            "Q12  難易適中  \n",
            "Q13    容易  \n",
            "Q14  難易適中  \n",
            "Q15  難易適中  \n",
            "Q16  難易適中  \n",
            "Q17  難易適中  \n",
            "Q18    困難  \n",
            "Q19  難易適中  \n",
            "Q20   極困難  \n"
          ]
        }
      ]
    },
    {
      "cell_type": "code",
      "source": [
        "from gspread_dataframe import set_with_dataframe\n",
        "\n",
        "# Open the spreadsheet first\n",
        "spreadsheet = gc.open_by_url('https://docs.google.com/spreadsheets/d/1NOiihN2KOGudwPLvpgVpArZwz8vJ4oEUtY1KjfEBiTg/edit?usp=sharing')\n",
        "\n",
        "# 選擇要更新的工作表（選擇第四個工作表，索引為 3）\n",
        "worksheet = spreadsheet.get_worksheet(3)\n",
        "\n",
        "# 將 DataFrame 寫入 Google Sheets\n",
        "set_with_dataframe(worksheet, d_df)"
      ],
      "metadata": {
        "id": "2NLfDXLHMAgs"
      },
      "execution_count": null,
      "outputs": []
    },
    {
      "cell_type": "markdown",
      "source": [
        "\n",
        "\n",
        "---\n",
        "\n",
        "用K-mean聚類：難度和鑑別度的關係。"
      ],
      "metadata": {
        "id": "2b1PWM6TzIfa"
      }
    },
    {
      "cell_type": "code",
      "source": [
        "!pip install -U kaleido"
      ],
      "metadata": {
        "colab": {
          "base_uri": "https://localhost:8080/"
        },
        "id": "lsx53_7theRh",
        "outputId": "41753d34-49c0-4d0b-c3e4-2eab1f982bc4"
      },
      "execution_count": null,
      "outputs": [
        {
          "output_type": "stream",
          "name": "stdout",
          "text": [
            "Requirement already satisfied: kaleido in /usr/local/lib/python3.11/dist-packages (0.2.1)\n"
          ]
        }
      ]
    },
    {
      "cell_type": "code",
      "source": [
        "import plotly.io as pio\n",
        "from google.colab import files\n",
        "import pandas as pd\n",
        "import plotly.express as px\n",
        "from sklearn.cluster import KMeans\n",
        "from sklearn.decomposition import PCA\n",
        "\n",
        "# 建立難度與鑑別度平均資料\n",
        "# Use the index of d_df (which contains question names) for grouping\n",
        "question_summary = d_df.reset_index().groupby('index')[['難度', '鑑別度']].mean().reset_index()\n",
        "\n",
        "# Rename the index column to 'question' for clarity\n",
        "question_summary = question_summary.rename(columns={'index': 'question'})\n",
        "\n",
        "# 根據難度與鑑別度建立中位數分類\n",
        "diff_median = question_summary['鑑別度'].median()\n",
        "difficulty_median = question_summary['難度'].median()\n",
        "\n",
        "def classify_question(row):\n",
        "    if row['難度'] >= difficulty_median and row['鑑別度'] >= diff_median:\n",
        "        return '難度高鑑別高'\n",
        "    elif row['難度'] >= difficulty_median and row['鑑別度'] < diff_median:\n",
        "        return '難度高鑑別低'\n",
        "    elif row['難度'] < difficulty_median and row['鑑別度'] >= diff_median:\n",
        "        return '難度低鑑別高'\n",
        "    else:\n",
        "        return '難度低鑑別低'\n",
        "\n",
        "# 加入分類欄位\n",
        "question_summary['分類群組'] = question_summary.apply(classify_question, axis=1)\n",
        "\n",
        "# 加入 KMeans 聚類\n",
        "kmeans = KMeans(n_clusters=4, random_state=42)\n",
        "question_summary['分類群組'] = kmeans.fit_predict(question_summary[['難度', '鑑別度']])\n",
        "\n",
        "# PCA 降維（可視化用，可不顯示）\n",
        "pca = PCA(n_components=2)\n",
        "components = pca.fit_transform(question_summary[['難度', '鑑別度']])\n",
        "question_summary['主成分1'] = components[:, 0]\n",
        "question_summary['主成分2'] = components[:, 1]\n",
        "\n",
        "# 合併相同難度＆鑑別度的題目名稱\n",
        "grouped = question_summary.groupby(['難度', '鑑別度', '分類群組']).agg({\n",
        "    'question': lambda x: ', '.join(x.astype(str))\n",
        "}).reset_index()\n",
        "\n",
        "# 將合併後資料與原本的分類群組對齊\n",
        "fig = px.scatter(\n",
        "    grouped,\n",
        "    x='難度',\n",
        "    y='鑑別度',\n",
        "    color='分類群組',\n",
        "    text='question',\n",
        "    title='Question Classification Analysis Chart (Difficulty and Discrimination)',\n",
        "    labels={'Discrimination': 'Discrimination', 'Difficulty': 'Difficulty'},\n",
        "    hover_data=['question']\n",
        ")\n",
        "\n",
        "texts = [\n",
        "    \"Blue dots: High difficulty + High discrimination (very suitable for student differentiation)\",\n",
        "    \"Red dots: High difficulty but low discrimination (may be too hard to differentiate student ability)\",\n",
        "    \"Green dots: Low difficulty but high discrimination (easy but effective good questions)\",\n",
        "    \"Purple dots: Low difficulty and low discrimination (mostly ineffective questions, should consider revision)\"\n",
        "]\n",
        "\n",
        "for i, text in enumerate(texts):\n",
        "    fig.add_annotation(\n",
        "        text=text,\n",
        "        xref=\"paper\", yref=\"paper\",\n",
        "        x=0.5, y=-0.25 - i*0.05,  # 每行往下移 0.05 單位\n",
        "        showarrow=False,\n",
        "        align=\"center\",\n",
        "        font=dict(size=12, family=\"Microsoft JhengHei\"),\n",
        "        bgcolor=\"white\",\n",
        "        opacity=0.9\n",
        "    )\n",
        "\n",
        "# 美化圖表\n",
        "fig.update_layout(\n",
        "    font_family=\"Microsoft JhengHei\",\n",
        "    xaxis_title=\"Difficulty\",\n",
        "    yaxis_title=\"Discrimination\",\n",
        "    legend_title=\"Cluster Group\",\n",
        "    title_x=0.5,\n",
        "    height=800,\n",
        "    width=1000,\n",
        "    margin=dict(b=200)\n",
        ")\n",
        "\n",
        "fig.show()\n"
      ],
      "metadata": {
        "colab": {
          "base_uri": "https://localhost:8080/",
          "height": 817
        },
        "id": "66KuO1KKkv99",
        "outputId": "014c1bf1-e22d-4c23-d016-3fb1ccee1325"
      },
      "execution_count": null,
      "outputs": [
        {
          "output_type": "display_data",
          "data": {
            "text/html": [
              "<html>\n",
              "<head><meta charset=\"utf-8\" /></head>\n",
              "<body>\n",
              "    <div>            <script src=\"https://cdnjs.cloudflare.com/ajax/libs/mathjax/2.7.5/MathJax.js?config=TeX-AMS-MML_SVG\"></script><script type=\"text/javascript\">if (window.MathJax && window.MathJax.Hub && window.MathJax.Hub.Config) {window.MathJax.Hub.Config({SVG: {font: \"STIX-Web\"}});}</script>                <script type=\"text/javascript\">window.PlotlyConfig = {MathJaxConfig: 'local'};</script>\n",
              "        <script charset=\"utf-8\" src=\"https://cdn.plot.ly/plotly-2.35.2.min.js\"></script>                <div id=\"29103122-0ef9-4024-ada1-b61a7f992c3b\" class=\"plotly-graph-div\" style=\"height:800px; width:1000px;\"></div>            <script type=\"text/javascript\">                                    window.PLOTLYENV=window.PLOTLYENV || {};                                    if (document.getElementById(\"29103122-0ef9-4024-ada1-b61a7f992c3b\")) {                    Plotly.newPlot(                        \"29103122-0ef9-4024-ada1-b61a7f992c3b\",                        [{\"customdata\":[[\"Q10, Q20\"],[\"Q18, Q8\"],[\"Q19, Q9\"],[\"Q12, Q14, Q15, Q16, Q17, Q2, Q4, Q5, Q6, Q7\"],[\"Q1, Q11, Q13, Q3\"]],\"hovertemplate\":\"難度=%{x}\\u003cbr\\u003e鑑別度=%{y}\\u003cbr\\u003equestion=%{customdata[0]}\\u003cbr\\u003e分類群組=%{marker.color}\\u003cextra\\u003e\\u003c\\u002fextra\\u003e\",\"legendgroup\":\"\",\"marker\":{\"color\":[1,0,3,0,2],\"coloraxis\":\"coloraxis\",\"symbol\":\"circle\"},\"mode\":\"markers+text\",\"name\":\"\",\"orientation\":\"v\",\"showlegend\":false,\"text\":[\"Q10, Q20\",\"Q18, Q8\",\"Q19, Q9\",\"Q12, Q14, Q15, Q16, Q17, Q2, Q4, Q5, Q6, Q7\",\"Q1, Q11, Q13, Q3\"],\"x\":[0.17,0.33,0.5,0.5,0.67],\"xaxis\":\"x\",\"y\":[-0.2,0.4,0.2,0.6,0.4],\"yaxis\":\"y\",\"type\":\"scatter\"}],                        {\"template\":{\"data\":{\"histogram2dcontour\":[{\"type\":\"histogram2dcontour\",\"colorbar\":{\"outlinewidth\":0,\"ticks\":\"\"},\"colorscale\":[[0.0,\"#0d0887\"],[0.1111111111111111,\"#46039f\"],[0.2222222222222222,\"#7201a8\"],[0.3333333333333333,\"#9c179e\"],[0.4444444444444444,\"#bd3786\"],[0.5555555555555556,\"#d8576b\"],[0.6666666666666666,\"#ed7953\"],[0.7777777777777778,\"#fb9f3a\"],[0.8888888888888888,\"#fdca26\"],[1.0,\"#f0f921\"]]}],\"choropleth\":[{\"type\":\"choropleth\",\"colorbar\":{\"outlinewidth\":0,\"ticks\":\"\"}}],\"histogram2d\":[{\"type\":\"histogram2d\",\"colorbar\":{\"outlinewidth\":0,\"ticks\":\"\"},\"colorscale\":[[0.0,\"#0d0887\"],[0.1111111111111111,\"#46039f\"],[0.2222222222222222,\"#7201a8\"],[0.3333333333333333,\"#9c179e\"],[0.4444444444444444,\"#bd3786\"],[0.5555555555555556,\"#d8576b\"],[0.6666666666666666,\"#ed7953\"],[0.7777777777777778,\"#fb9f3a\"],[0.8888888888888888,\"#fdca26\"],[1.0,\"#f0f921\"]]}],\"heatmap\":[{\"type\":\"heatmap\",\"colorbar\":{\"outlinewidth\":0,\"ticks\":\"\"},\"colorscale\":[[0.0,\"#0d0887\"],[0.1111111111111111,\"#46039f\"],[0.2222222222222222,\"#7201a8\"],[0.3333333333333333,\"#9c179e\"],[0.4444444444444444,\"#bd3786\"],[0.5555555555555556,\"#d8576b\"],[0.6666666666666666,\"#ed7953\"],[0.7777777777777778,\"#fb9f3a\"],[0.8888888888888888,\"#fdca26\"],[1.0,\"#f0f921\"]]}],\"heatmapgl\":[{\"type\":\"heatmapgl\",\"colorbar\":{\"outlinewidth\":0,\"ticks\":\"\"},\"colorscale\":[[0.0,\"#0d0887\"],[0.1111111111111111,\"#46039f\"],[0.2222222222222222,\"#7201a8\"],[0.3333333333333333,\"#9c179e\"],[0.4444444444444444,\"#bd3786\"],[0.5555555555555556,\"#d8576b\"],[0.6666666666666666,\"#ed7953\"],[0.7777777777777778,\"#fb9f3a\"],[0.8888888888888888,\"#fdca26\"],[1.0,\"#f0f921\"]]}],\"contourcarpet\":[{\"type\":\"contourcarpet\",\"colorbar\":{\"outlinewidth\":0,\"ticks\":\"\"}}],\"contour\":[{\"type\":\"contour\",\"colorbar\":{\"outlinewidth\":0,\"ticks\":\"\"},\"colorscale\":[[0.0,\"#0d0887\"],[0.1111111111111111,\"#46039f\"],[0.2222222222222222,\"#7201a8\"],[0.3333333333333333,\"#9c179e\"],[0.4444444444444444,\"#bd3786\"],[0.5555555555555556,\"#d8576b\"],[0.6666666666666666,\"#ed7953\"],[0.7777777777777778,\"#fb9f3a\"],[0.8888888888888888,\"#fdca26\"],[1.0,\"#f0f921\"]]}],\"surface\":[{\"type\":\"surface\",\"colorbar\":{\"outlinewidth\":0,\"ticks\":\"\"},\"colorscale\":[[0.0,\"#0d0887\"],[0.1111111111111111,\"#46039f\"],[0.2222222222222222,\"#7201a8\"],[0.3333333333333333,\"#9c179e\"],[0.4444444444444444,\"#bd3786\"],[0.5555555555555556,\"#d8576b\"],[0.6666666666666666,\"#ed7953\"],[0.7777777777777778,\"#fb9f3a\"],[0.8888888888888888,\"#fdca26\"],[1.0,\"#f0f921\"]]}],\"mesh3d\":[{\"type\":\"mesh3d\",\"colorbar\":{\"outlinewidth\":0,\"ticks\":\"\"}}],\"scatter\":[{\"fillpattern\":{\"fillmode\":\"overlay\",\"size\":10,\"solidity\":0.2},\"type\":\"scatter\"}],\"parcoords\":[{\"type\":\"parcoords\",\"line\":{\"colorbar\":{\"outlinewidth\":0,\"ticks\":\"\"}}}],\"scatterpolargl\":[{\"type\":\"scatterpolargl\",\"marker\":{\"colorbar\":{\"outlinewidth\":0,\"ticks\":\"\"}}}],\"bar\":[{\"error_x\":{\"color\":\"#2a3f5f\"},\"error_y\":{\"color\":\"#2a3f5f\"},\"marker\":{\"line\":{\"color\":\"#E5ECF6\",\"width\":0.5},\"pattern\":{\"fillmode\":\"overlay\",\"size\":10,\"solidity\":0.2}},\"type\":\"bar\"}],\"scattergeo\":[{\"type\":\"scattergeo\",\"marker\":{\"colorbar\":{\"outlinewidth\":0,\"ticks\":\"\"}}}],\"scatterpolar\":[{\"type\":\"scatterpolar\",\"marker\":{\"colorbar\":{\"outlinewidth\":0,\"ticks\":\"\"}}}],\"histogram\":[{\"marker\":{\"pattern\":{\"fillmode\":\"overlay\",\"size\":10,\"solidity\":0.2}},\"type\":\"histogram\"}],\"scattergl\":[{\"type\":\"scattergl\",\"marker\":{\"colorbar\":{\"outlinewidth\":0,\"ticks\":\"\"}}}],\"scatter3d\":[{\"type\":\"scatter3d\",\"line\":{\"colorbar\":{\"outlinewidth\":0,\"ticks\":\"\"}},\"marker\":{\"colorbar\":{\"outlinewidth\":0,\"ticks\":\"\"}}}],\"scattermapbox\":[{\"type\":\"scattermapbox\",\"marker\":{\"colorbar\":{\"outlinewidth\":0,\"ticks\":\"\"}}}],\"scatterternary\":[{\"type\":\"scatterternary\",\"marker\":{\"colorbar\":{\"outlinewidth\":0,\"ticks\":\"\"}}}],\"scattercarpet\":[{\"type\":\"scattercarpet\",\"marker\":{\"colorbar\":{\"outlinewidth\":0,\"ticks\":\"\"}}}],\"carpet\":[{\"aaxis\":{\"endlinecolor\":\"#2a3f5f\",\"gridcolor\":\"white\",\"linecolor\":\"white\",\"minorgridcolor\":\"white\",\"startlinecolor\":\"#2a3f5f\"},\"baxis\":{\"endlinecolor\":\"#2a3f5f\",\"gridcolor\":\"white\",\"linecolor\":\"white\",\"minorgridcolor\":\"white\",\"startlinecolor\":\"#2a3f5f\"},\"type\":\"carpet\"}],\"table\":[{\"cells\":{\"fill\":{\"color\":\"#EBF0F8\"},\"line\":{\"color\":\"white\"}},\"header\":{\"fill\":{\"color\":\"#C8D4E3\"},\"line\":{\"color\":\"white\"}},\"type\":\"table\"}],\"barpolar\":[{\"marker\":{\"line\":{\"color\":\"#E5ECF6\",\"width\":0.5},\"pattern\":{\"fillmode\":\"overlay\",\"size\":10,\"solidity\":0.2}},\"type\":\"barpolar\"}],\"pie\":[{\"automargin\":true,\"type\":\"pie\"}]},\"layout\":{\"autotypenumbers\":\"strict\",\"colorway\":[\"#636efa\",\"#EF553B\",\"#00cc96\",\"#ab63fa\",\"#FFA15A\",\"#19d3f3\",\"#FF6692\",\"#B6E880\",\"#FF97FF\",\"#FECB52\"],\"font\":{\"color\":\"#2a3f5f\"},\"hovermode\":\"closest\",\"hoverlabel\":{\"align\":\"left\"},\"paper_bgcolor\":\"white\",\"plot_bgcolor\":\"#E5ECF6\",\"polar\":{\"bgcolor\":\"#E5ECF6\",\"angularaxis\":{\"gridcolor\":\"white\",\"linecolor\":\"white\",\"ticks\":\"\"},\"radialaxis\":{\"gridcolor\":\"white\",\"linecolor\":\"white\",\"ticks\":\"\"}},\"ternary\":{\"bgcolor\":\"#E5ECF6\",\"aaxis\":{\"gridcolor\":\"white\",\"linecolor\":\"white\",\"ticks\":\"\"},\"baxis\":{\"gridcolor\":\"white\",\"linecolor\":\"white\",\"ticks\":\"\"},\"caxis\":{\"gridcolor\":\"white\",\"linecolor\":\"white\",\"ticks\":\"\"}},\"coloraxis\":{\"colorbar\":{\"outlinewidth\":0,\"ticks\":\"\"}},\"colorscale\":{\"sequential\":[[0.0,\"#0d0887\"],[0.1111111111111111,\"#46039f\"],[0.2222222222222222,\"#7201a8\"],[0.3333333333333333,\"#9c179e\"],[0.4444444444444444,\"#bd3786\"],[0.5555555555555556,\"#d8576b\"],[0.6666666666666666,\"#ed7953\"],[0.7777777777777778,\"#fb9f3a\"],[0.8888888888888888,\"#fdca26\"],[1.0,\"#f0f921\"]],\"sequentialminus\":[[0.0,\"#0d0887\"],[0.1111111111111111,\"#46039f\"],[0.2222222222222222,\"#7201a8\"],[0.3333333333333333,\"#9c179e\"],[0.4444444444444444,\"#bd3786\"],[0.5555555555555556,\"#d8576b\"],[0.6666666666666666,\"#ed7953\"],[0.7777777777777778,\"#fb9f3a\"],[0.8888888888888888,\"#fdca26\"],[1.0,\"#f0f921\"]],\"diverging\":[[0,\"#8e0152\"],[0.1,\"#c51b7d\"],[0.2,\"#de77ae\"],[0.3,\"#f1b6da\"],[0.4,\"#fde0ef\"],[0.5,\"#f7f7f7\"],[0.6,\"#e6f5d0\"],[0.7,\"#b8e186\"],[0.8,\"#7fbc41\"],[0.9,\"#4d9221\"],[1,\"#276419\"]]},\"xaxis\":{\"gridcolor\":\"white\",\"linecolor\":\"white\",\"ticks\":\"\",\"title\":{\"standoff\":15},\"zerolinecolor\":\"white\",\"automargin\":true,\"zerolinewidth\":2},\"yaxis\":{\"gridcolor\":\"white\",\"linecolor\":\"white\",\"ticks\":\"\",\"title\":{\"standoff\":15},\"zerolinecolor\":\"white\",\"automargin\":true,\"zerolinewidth\":2},\"scene\":{\"xaxis\":{\"backgroundcolor\":\"#E5ECF6\",\"gridcolor\":\"white\",\"linecolor\":\"white\",\"showbackground\":true,\"ticks\":\"\",\"zerolinecolor\":\"white\",\"gridwidth\":2},\"yaxis\":{\"backgroundcolor\":\"#E5ECF6\",\"gridcolor\":\"white\",\"linecolor\":\"white\",\"showbackground\":true,\"ticks\":\"\",\"zerolinecolor\":\"white\",\"gridwidth\":2},\"zaxis\":{\"backgroundcolor\":\"#E5ECF6\",\"gridcolor\":\"white\",\"linecolor\":\"white\",\"showbackground\":true,\"ticks\":\"\",\"zerolinecolor\":\"white\",\"gridwidth\":2}},\"shapedefaults\":{\"line\":{\"color\":\"#2a3f5f\"}},\"annotationdefaults\":{\"arrowcolor\":\"#2a3f5f\",\"arrowhead\":0,\"arrowwidth\":1},\"geo\":{\"bgcolor\":\"white\",\"landcolor\":\"#E5ECF6\",\"subunitcolor\":\"white\",\"showland\":true,\"showlakes\":true,\"lakecolor\":\"white\"},\"title\":{\"x\":0.05},\"mapbox\":{\"style\":\"light\"}}},\"xaxis\":{\"anchor\":\"y\",\"domain\":[0.0,1.0],\"title\":{\"text\":\"Difficulty\"}},\"yaxis\":{\"anchor\":\"x\",\"domain\":[0.0,1.0],\"title\":{\"text\":\"Discrimination\"}},\"coloraxis\":{\"colorbar\":{\"title\":{\"text\":\"分類群組\"}},\"colorscale\":[[0.0,\"#0d0887\"],[0.1111111111111111,\"#46039f\"],[0.2222222222222222,\"#7201a8\"],[0.3333333333333333,\"#9c179e\"],[0.4444444444444444,\"#bd3786\"],[0.5555555555555556,\"#d8576b\"],[0.6666666666666666,\"#ed7953\"],[0.7777777777777778,\"#fb9f3a\"],[0.8888888888888888,\"#fdca26\"],[1.0,\"#f0f921\"]]},\"legend\":{\"tracegroupgap\":0,\"title\":{\"text\":\"Cluster Group\"}},\"title\":{\"text\":\"Question Classification Analysis Chart (Difficulty and Discrimination)\",\"x\":0.5},\"annotations\":[{\"align\":\"center\",\"bgcolor\":\"white\",\"font\":{\"family\":\"Microsoft JhengHei\",\"size\":12},\"opacity\":0.9,\"showarrow\":false,\"text\":\"Blue dots: High difficulty + High discrimination (very suitable for student differentiation)\",\"x\":0.5,\"xref\":\"paper\",\"y\":-0.25,\"yref\":\"paper\"},{\"align\":\"center\",\"bgcolor\":\"white\",\"font\":{\"family\":\"Microsoft JhengHei\",\"size\":12},\"opacity\":0.9,\"showarrow\":false,\"text\":\"Red dots: High difficulty but low discrimination (may be too hard to differentiate student ability)\",\"x\":0.5,\"xref\":\"paper\",\"y\":-0.3,\"yref\":\"paper\"},{\"align\":\"center\",\"bgcolor\":\"white\",\"font\":{\"family\":\"Microsoft JhengHei\",\"size\":12},\"opacity\":0.9,\"showarrow\":false,\"text\":\"Green dots: Low difficulty but high discrimination (easy but effective good questions)\",\"x\":0.5,\"xref\":\"paper\",\"y\":-0.35,\"yref\":\"paper\"},{\"align\":\"center\",\"bgcolor\":\"white\",\"font\":{\"family\":\"Microsoft JhengHei\",\"size\":12},\"opacity\":0.9,\"showarrow\":false,\"text\":\"Purple dots: Low difficulty and low discrimination (mostly ineffective questions, should consider revision)\",\"x\":0.5,\"xref\":\"paper\",\"y\":-0.4,\"yref\":\"paper\"}],\"font\":{\"family\":\"Microsoft JhengHei\"},\"margin\":{\"b\":200},\"height\":800,\"width\":1000},                        {\"responsive\": true}                    ).then(function(){\n",
              "                            \n",
              "var gd = document.getElementById('29103122-0ef9-4024-ada1-b61a7f992c3b');\n",
              "var x = new MutationObserver(function (mutations, observer) {{\n",
              "        var display = window.getComputedStyle(gd).display;\n",
              "        if (!display || display === 'none') {{\n",
              "            console.log([gd, 'removed!']);\n",
              "            Plotly.purge(gd);\n",
              "            observer.disconnect();\n",
              "        }}\n",
              "}});\n",
              "\n",
              "// Listen for the removal of the full notebook cells\n",
              "var notebookContainer = gd.closest('#notebook-container');\n",
              "if (notebookContainer) {{\n",
              "    x.observe(notebookContainer, {childList: true});\n",
              "}}\n",
              "\n",
              "// Listen for the clearing of the current output cell\n",
              "var outputEl = gd.closest('.output');\n",
              "if (outputEl) {{\n",
              "    x.observe(outputEl, {childList: true});\n",
              "}}\n",
              "\n",
              "                        })                };                            </script>        </div>\n",
              "</body>\n",
              "</html>"
            ]
          },
          "metadata": {}
        }
      ]
    },
    {
      "cell_type": "markdown",
      "source": [
        "用k-mean聚類和pca降維，將各題的難度和鑑別度的數據結合並且進行聚類。將每個群組以顏色分類得出的分析結果如下：\n",
        "\n",
        "藍色點：難度高 + 鑑別高（很適合篩選學生）\n",
        "\n",
        "紅色點：難度高但鑑別低（可能太難無法分出學生程度）\n",
        "\n",
        "綠色點：難度低但鑑別高（簡單但有效的好題）\n",
        "\n",
        "紫色點：難度低且鑑別低（多為無效題目，應考慮修改）\n",
        "\n",
        "這樣身為老師在完成批改一份試卷後，將學生答案寫入這裡，就會被分析出題目的難度和鑑別度，以快速知道哪些題目是好題或是能淘汰的題目。\n"
      ],
      "metadata": {
        "id": "geT2omITxmYF"
      }
    },
    {
      "cell_type": "markdown",
      "source": [
        "\n",
        "\n",
        "---\n",
        "下載成圖片\n"
      ],
      "metadata": {
        "id": "-5ZK8HvaPGu5"
      }
    },
    {
      "cell_type": "code",
      "source": [
        "output_file = \"聚類分析圖.png\"\n",
        "pio.write_image(fig, output_file, format='png', width=1000, height=800, scale=2)\n",
        "files.download(output_file)"
      ],
      "metadata": {
        "colab": {
          "base_uri": "https://localhost:8080/",
          "height": 17
        },
        "id": "BooC0aQZjmmB",
        "outputId": "be4d0bc9-9e7d-4cf5-9b0d-02abba1e9c97"
      },
      "execution_count": null,
      "outputs": [
        {
          "output_type": "display_data",
          "data": {
            "text/plain": [
              "<IPython.core.display.Javascript object>"
            ],
            "application/javascript": [
              "\n",
              "    async function download(id, filename, size) {\n",
              "      if (!google.colab.kernel.accessAllowed) {\n",
              "        return;\n",
              "      }\n",
              "      const div = document.createElement('div');\n",
              "      const label = document.createElement('label');\n",
              "      label.textContent = `Downloading \"${filename}\": `;\n",
              "      div.appendChild(label);\n",
              "      const progress = document.createElement('progress');\n",
              "      progress.max = size;\n",
              "      div.appendChild(progress);\n",
              "      document.body.appendChild(div);\n",
              "\n",
              "      const buffers = [];\n",
              "      let downloaded = 0;\n",
              "\n",
              "      const channel = await google.colab.kernel.comms.open(id);\n",
              "      // Send a message to notify the kernel that we're ready.\n",
              "      channel.send({})\n",
              "\n",
              "      for await (const message of channel.messages) {\n",
              "        // Send a message to notify the kernel that we're ready.\n",
              "        channel.send({})\n",
              "        if (message.buffers) {\n",
              "          for (const buffer of message.buffers) {\n",
              "            buffers.push(buffer);\n",
              "            downloaded += buffer.byteLength;\n",
              "            progress.value = downloaded;\n",
              "          }\n",
              "        }\n",
              "      }\n",
              "      const blob = new Blob(buffers, {type: 'application/binary'});\n",
              "      const a = document.createElement('a');\n",
              "      a.href = window.URL.createObjectURL(blob);\n",
              "      a.download = filename;\n",
              "      div.appendChild(a);\n",
              "      a.click();\n",
              "      div.remove();\n",
              "    }\n",
              "  "
            ]
          },
          "metadata": {}
        },
        {
          "output_type": "display_data",
          "data": {
            "text/plain": [
              "<IPython.core.display.Javascript object>"
            ],
            "application/javascript": [
              "download(\"download_84737d60-9553-4c78-a5f2-1aac1be2812f\", \"\\u805a\\u985e\\u5206\\u6790\\u5716.png\", 213097)"
            ]
          },
          "metadata": {}
        }
      ]
    },
    {
      "cell_type": "markdown",
      "source": [
        "信度計算"
      ],
      "metadata": {
        "id": "A_3NVLh3PLq7"
      }
    },
    {
      "cell_type": "code",
      "source": [
        "# Cronbach's α 計算函數\n",
        "def cronbach_alpha(df):\n",
        "    itemscores = df.T\n",
        "    itemvars = itemscores.var(axis=1, ddof=1)\n",
        "    totalscore = df.sum(axis=1)\n",
        "    n_items = df.shape[1]\n",
        "    return (n_items / (n_items - 1)) * (1 - itemvars.sum() / totalscore.var(ddof=1))\n",
        "\n",
        "alpha = cronbach_alpha(df)\n",
        "print(f\"信度 = {alpha:.3f}\")"
      ],
      "metadata": {
        "colab": {
          "base_uri": "https://localhost:8080/"
        },
        "id": "-HAPWvh8NfFy",
        "outputId": "47b47581-8899-4139-a53c-cded47b4d739"
      },
      "execution_count": null,
      "outputs": [
        {
          "output_type": "stream",
          "name": "stdout",
          "text": [
            "信度 = 0.756\n"
          ]
        }
      ]
    },
    {
      "cell_type": "markdown",
      "source": [
        "α 值區間\t解釋\n",
        "\n",
        "≥ 0.90\t非常好（Excellent）\n",
        "\n",
        "0.80–0.89\t良好（Good）\n",
        "\n",
        "0.70–0.79\t可接受（Acceptable）\n",
        "\n",
        "0.60–0.69\t邊緣（Questionable）\n",
        "\n",
        "< 0.60\t不理想（Poor）"
      ],
      "metadata": {
        "id": "y_9qlpZENv_e"
      }
    },
    {
      "cell_type": "markdown",
      "source": [
        "\n",
        "\n",
        "---\n",
        "\n",
        "AI建議"
      ],
      "metadata": {
        "id": "GfbkdQykPQJG"
      }
    },
    {
      "cell_type": "code",
      "source": [
        "from google.colab import userdata\n",
        "import random\n",
        "import google.generativeai as genai\n",
        "apikey = userdata.get('GOOGLE_API_KEY')\n",
        "genai.configure(api_key = apikey)\n",
        "model = genai.GenerativeModel(\"gemini-1.5-flash\")"
      ],
      "metadata": {
        "id": "vpzIt0dbKX-o"
      },
      "execution_count": null,
      "outputs": []
    },
    {
      "cell_type": "code",
      "source": [
        "prompt = f\"\"\"\n",
        "這是一份試卷的學習評量，以下數據分析了高分組學生、低分組學生、難度、鑑別度、信度。\n",
        "\n",
        "{d_df[['題號', '高分組答對率', '高分組答對數', '低分組答對率', '低分組答對數','難度', '鑑別度', '鑑別評鑑', '難易評鑑']].to_string(index=False)}\n",
        "(f\"信度 = {alpha:.3f}\")\n",
        "\n",
        "請你根據這份資料進行以下分析：\n",
        "1.敘述此班級學生的成績狀況，低分組和高分組學生的數量。\n",
        "2.找出最難和最簡單的題目，並給出改良建議。\n",
        "3.根據鑑別度結果，為試卷題目給出建議。\n",
        "4.這份試卷的信度是多少？請給出分析和建議。\n",
        "\n",
        "\"\"\""
      ],
      "metadata": {
        "id": "ZffQFTRULRsI"
      },
      "execution_count": null,
      "outputs": []
    },
    {
      "cell_type": "code",
      "source": [
        "response = model.generate_content(prompt)\n",
        "print(response.text)"
      ],
      "metadata": {
        "colab": {
          "base_uri": "https://localhost:8080/",
          "height": 714
        },
        "id": "_Y7KspXKLTb0",
        "outputId": "2fc29d76-b42c-4615-d8a5-094d2a7d102c"
      },
      "execution_count": null,
      "outputs": [
        {
          "output_type": "stream",
          "name": "stdout",
          "text": [
            "根據提供的數據，我們可以進行以下分析：\n",
            "\n",
            "**1. 班級學生成績狀況及組別數量：**\n",
            "\n",
            "數據顯示，高分組學生在每題都答對了3題(高分組人數為3人)。低分組學生在部分題目中答對了1題，也有一些題目沒有答對(低分組人數為3人)。  因此，總共有6位學生參與此次測驗。  無法得知高低分組的劃分標準，但可以推斷，這是個極端分佈的結果，需要進一步調查了解原因，例如：題目過於簡單或過於困難，導致分數差異過大，也可能與學生學習狀況的差異有關。\n",
            "\n",
            "\n",
            "**2. 最難和最簡單的題目及改良建議：**\n",
            "\n",
            "* **最簡單的題目：** Q1, Q3, Q11, Q13。這些題目高分組答對率為100%，低分組答對率也相對較高(33.33%)。  這些題目鑑別度雖然合格(0.4)，但鑑別能力不足，未能有效區分高低分組學生的能力。\n",
            "\n",
            "    * **改良建議：**  應增加題目的難度和複雜度，例如，可以增加步驟、改變題型(例如從選擇題改為簡答題或計算題)，或增加需要更高階思考能力的元素。 避免只考查基礎知識，應加入應用或分析層級的題目。\n",
            "\n",
            "\n",
            "* **最難的題目：** Q10 和 Q20。這些題目高分組答對率為0%，低分組答對率也低(33.33%)，鑑別度為負值(-0.2)，表示這些題目無法區分高低分組學生，甚至低分組學生答對率還比高分組高。\n",
            "\n",
            "    * **改良建議：** 這些題目應該直接刪除。  需要檢視題目本身是否存在錯誤、表達不清或超出教學範圍等問題。  如果題目本身沒有問題，則需要重新設計，降低題目難度，讓它更符合學生的學習程度，並使其具有鑑別度。\n",
            "\n",
            "\n",
            "**3. 鑑別度結果建議：**\n",
            "\n",
            "* **鑑別度極佳 (0.6)：** Q2, Q4, Q5, Q6, Q7, Q12, Q14, Q15, Q16, Q17。這些題目高分組答對率高，低分組答對率低，有效區分了高低分組學生的能力。  但需要注意的是，這些題目的高分組答對率均為100%，暗示可能過於簡單，無法有效測量高分組學生的實際能力。\n",
            "\n",
            "* **鑑別度中等 (0.4)：** Q1, Q3, Q8, Q11, Q13, Q18。這些題目也具備一定的鑑別能力，但鑑別效果不夠理想，建議參考第一點的改良建議進行調整。\n",
            "\n",
            "* **鑑別度不佳 (0.2)：** Q9, Q19。這些題目鑑別度過低，需要大幅度修改或刪除。  需要分析原因，例如題目設計、學生理解能力等。\n",
            "\n",
            "* **鑑別度極差 (-0.2)：** Q10, Q20。這些題目需要刪除，如前所述。\n",
            "\n",
            "\n",
            "**4. 試卷信度分析及建議：**\n",
            "\n",
            "試卷信度為 0.756。  一般來說，信度在 0.7 以上表示試卷具有令人滿意的信度，但考慮到題目本身的缺陷，這個信度值並不能完全反映試卷的真正測量品質。\n",
            "\n",
            "* **建議：**  需要根據鑑別度分析的結果，修改或刪除不合格的試題(Q9, Q10, Q19, Q20)。  重新檢視題目的難度和鑑別度，調整題目的比例，使試卷包含不同難度和鑑別度的題目，才能更有效地測量學生的能力，並提高試卷的信度和效度。  另外，增加題目數量可以進一步提高信度。  最後，建議進行信度分析(例如克朗巴赫係數)來驗證修改後的試卷的信度。\n",
            "\n",
            "\n",
            "總體而言，这份试卷存在明显的缺陷，需要进行大幅度的修改才能达到有效的測量目的。  尤其需要注意的是高低分組學生答對率的極端差異，可能暗示題目設計上的問題。  應重新設計試卷，並增加題目數量，提高題目的鑑別度和信度。\n",
            "\n"
          ]
        }
      ]
    },
    {
      "cell_type": "code",
      "source": [
        "from gspread_dataframe import set_with_dataframe\n",
        "\n",
        "spreadsheet = gc.open_by_url('https://docs.google.com/spreadsheets/d/1NOiihN2KOGudwPLvpgVpArZwz8vJ4oEUtY1KjfEBiTg/edit?usp=sharing')\n",
        "\n",
        "# 選擇要更新的工作表（選擇第五個工作表，索引為 4）\n",
        "worksheet = spreadsheet.get_worksheet(4)\n",
        "\n",
        "# 將生成的文字放入一個 DataFrame\n",
        "response_df = pd.DataFrame([[response.text]])\n",
        "\n",
        "# 將 DataFrame 寫入 Google Sheets\n",
        "set_with_dataframe(worksheet, response_df)"
      ],
      "metadata": {
        "id": "cECrJBarROQ4"
      },
      "execution_count": null,
      "outputs": []
    },
    {
      "cell_type": "code",
      "source": [
        "!pip install --upgrade gspread gspread_dataframe openpyxl"
      ],
      "metadata": {
        "colab": {
          "base_uri": "https://localhost:8080/"
        },
        "id": "i8959fzXaAYd",
        "outputId": "a7c9d0ca-197c-4ce7-f1e6-5dc0efdfedee"
      },
      "execution_count": null,
      "outputs": [
        {
          "output_type": "stream",
          "name": "stdout",
          "text": [
            "Requirement already satisfied: gspread in /usr/local/lib/python3.11/dist-packages (6.2.1)\n",
            "Requirement already satisfied: gspread_dataframe in /usr/local/lib/python3.11/dist-packages (4.0.0)\n",
            "Requirement already satisfied: openpyxl in /usr/local/lib/python3.11/dist-packages (3.1.5)\n",
            "Requirement already satisfied: google-auth>=1.12.0 in /usr/local/lib/python3.11/dist-packages (from gspread) (2.38.0)\n",
            "Requirement already satisfied: google-auth-oauthlib>=0.4.1 in /usr/local/lib/python3.11/dist-packages (from gspread) (1.2.2)\n",
            "Requirement already satisfied: pandas>=0.24.0 in /usr/local/lib/python3.11/dist-packages (from gspread_dataframe) (2.2.2)\n",
            "Requirement already satisfied: six>=1.12.0 in /usr/local/lib/python3.11/dist-packages (from gspread_dataframe) (1.17.0)\n",
            "Requirement already satisfied: et-xmlfile in /usr/local/lib/python3.11/dist-packages (from openpyxl) (2.0.0)\n",
            "Requirement already satisfied: cachetools<6.0,>=2.0.0 in /usr/local/lib/python3.11/dist-packages (from google-auth>=1.12.0->gspread) (5.5.2)\n",
            "Requirement already satisfied: pyasn1-modules>=0.2.1 in /usr/local/lib/python3.11/dist-packages (from google-auth>=1.12.0->gspread) (0.4.2)\n",
            "Requirement already satisfied: rsa<5,>=3.1.4 in /usr/local/lib/python3.11/dist-packages (from google-auth>=1.12.0->gspread) (4.9.1)\n",
            "Requirement already satisfied: requests-oauthlib>=0.7.0 in /usr/local/lib/python3.11/dist-packages (from google-auth-oauthlib>=0.4.1->gspread) (2.0.0)\n",
            "Requirement already satisfied: numpy>=1.23.2 in /usr/local/lib/python3.11/dist-packages (from pandas>=0.24.0->gspread_dataframe) (2.0.2)\n",
            "Requirement already satisfied: python-dateutil>=2.8.2 in /usr/local/lib/python3.11/dist-packages (from pandas>=0.24.0->gspread_dataframe) (2.9.0.post0)\n",
            "Requirement already satisfied: pytz>=2020.1 in /usr/local/lib/python3.11/dist-packages (from pandas>=0.24.0->gspread_dataframe) (2025.2)\n",
            "Requirement already satisfied: tzdata>=2022.7 in /usr/local/lib/python3.11/dist-packages (from pandas>=0.24.0->gspread_dataframe) (2025.2)\n",
            "Requirement already satisfied: pyasn1<0.7.0,>=0.6.1 in /usr/local/lib/python3.11/dist-packages (from pyasn1-modules>=0.2.1->google-auth>=1.12.0->gspread) (0.6.1)\n",
            "Requirement already satisfied: oauthlib>=3.0.0 in /usr/local/lib/python3.11/dist-packages (from requests-oauthlib>=0.7.0->google-auth-oauthlib>=0.4.1->gspread) (3.2.2)\n",
            "Requirement already satisfied: requests>=2.0.0 in /usr/local/lib/python3.11/dist-packages (from requests-oauthlib>=0.7.0->google-auth-oauthlib>=0.4.1->gspread) (2.32.3)\n",
            "Requirement already satisfied: charset-normalizer<4,>=2 in /usr/local/lib/python3.11/dist-packages (from requests>=2.0.0->requests-oauthlib>=0.7.0->google-auth-oauthlib>=0.4.1->gspread) (3.4.2)\n",
            "Requirement already satisfied: idna<4,>=2.5 in /usr/local/lib/python3.11/dist-packages (from requests>=2.0.0->requests-oauthlib>=0.7.0->google-auth-oauthlib>=0.4.1->gspread) (3.10)\n",
            "Requirement already satisfied: urllib3<3,>=1.21.1 in /usr/local/lib/python3.11/dist-packages (from requests>=2.0.0->requests-oauthlib>=0.7.0->google-auth-oauthlib>=0.4.1->gspread) (2.4.0)\n",
            "Requirement already satisfied: certifi>=2017.4.17 in /usr/local/lib/python3.11/dist-packages (from requests>=2.0.0->requests-oauthlib>=0.7.0->google-auth-oauthlib>=0.4.1->gspread) (2025.4.26)\n",
            "\u001b[31mERROR: Operation cancelled by user\u001b[0m\u001b[31m\n",
            "\u001b[0m"
          ]
        }
      ]
    },
    {
      "cell_type": "code",
      "source": [
        "import pandas as pd\n",
        "from gspread_dataframe import get_as_dataframe\n",
        "from google.colab import auth\n",
        "import gspread\n",
        "from google.auth import default\n",
        "\n",
        "try:\n",
        "    auth.authenticate_user()\n",
        "    creds, _ = default()\n",
        "    gc = gspread.authorize(creds)\n",
        "except:\n",
        "    print(\"Authentication failed. Please run the authentication cell.\")\n",
        "\n",
        "spreadsheet = gc.open_by_url('https://docs.google.com/spreadsheets/d/1NOiihN2KOGudwPLvpgVpArZwz8vJ4oEUtY1KjfEBiTg/edit?usp=sharing')\n",
        "\n",
        "all_worksheets = spreadsheet.worksheets()\n",
        "\n",
        "with pd.ExcelWriter('試卷分析.xlsx', engine='openpyxl') as writer:\n",
        "    for ws in all_worksheets:\n",
        "        try:\n",
        "            df = get_as_dataframe(ws, evaluate_formulas=True)\n",
        "            df.to_excel(writer, sheet_name=ws.title, index=False)\n",
        "            print(f\"Successfully wrote sheet '{ws.title}' to Excel.\")\n",
        "        except Exception as e:\n",
        "            print(f\"Could not read or write sheet '{ws.title}': {e}\")\n",
        "\n",
        "from google.colab import files\n",
        "files.download('試卷分析.xlsx')"
      ],
      "metadata": {
        "colab": {
          "base_uri": "https://localhost:8080/",
          "height": 156
        },
        "id": "w5IT-f-qWlvS",
        "outputId": "8068bde8-daef-49e9-e157-e180c5eff4bc"
      },
      "execution_count": null,
      "outputs": [
        {
          "output_type": "stream",
          "name": "stdout",
          "text": [
            "Successfully wrote sheet '學生' to Excel.\n",
            "Successfully wrote sheet '正確答案' to Excel.\n",
            "Successfully wrote sheet '學生對錯' to Excel.\n",
            "Successfully wrote sheet '鑑別結果' to Excel.\n",
            "Successfully wrote sheet 'AI建議' to Excel.\n",
            "Successfully wrote sheet '使用說明' to Excel.\n",
            "Successfully wrote sheet '範本' to Excel.\n",
            "Successfully wrote sheet '範本2' to Excel.\n"
          ]
        },
        {
          "output_type": "display_data",
          "data": {
            "text/plain": [
              "<IPython.core.display.Javascript object>"
            ],
            "application/javascript": [
              "\n",
              "    async function download(id, filename, size) {\n",
              "      if (!google.colab.kernel.accessAllowed) {\n",
              "        return;\n",
              "      }\n",
              "      const div = document.createElement('div');\n",
              "      const label = document.createElement('label');\n",
              "      label.textContent = `Downloading \"${filename}\": `;\n",
              "      div.appendChild(label);\n",
              "      const progress = document.createElement('progress');\n",
              "      progress.max = size;\n",
              "      div.appendChild(progress);\n",
              "      document.body.appendChild(div);\n",
              "\n",
              "      const buffers = [];\n",
              "      let downloaded = 0;\n",
              "\n",
              "      const channel = await google.colab.kernel.comms.open(id);\n",
              "      // Send a message to notify the kernel that we're ready.\n",
              "      channel.send({})\n",
              "\n",
              "      for await (const message of channel.messages) {\n",
              "        // Send a message to notify the kernel that we're ready.\n",
              "        channel.send({})\n",
              "        if (message.buffers) {\n",
              "          for (const buffer of message.buffers) {\n",
              "            buffers.push(buffer);\n",
              "            downloaded += buffer.byteLength;\n",
              "            progress.value = downloaded;\n",
              "          }\n",
              "        }\n",
              "      }\n",
              "      const blob = new Blob(buffers, {type: 'application/binary'});\n",
              "      const a = document.createElement('a');\n",
              "      a.href = window.URL.createObjectURL(blob);\n",
              "      a.download = filename;\n",
              "      div.appendChild(a);\n",
              "      a.click();\n",
              "      div.remove();\n",
              "    }\n",
              "  "
            ]
          },
          "metadata": {}
        },
        {
          "output_type": "display_data",
          "data": {
            "text/plain": [
              "<IPython.core.display.Javascript object>"
            ],
            "application/javascript": [
              "download(\"download_ba12b42e-a6de-48fe-b71c-47447a912961\", \"\\u8a66\\u5377\\u5206\\u6790.xlsx\", 15057)"
            ]
          },
          "metadata": {}
        }
      ]
    },
    {
      "cell_type": "code",
      "source": [
        "worksheets = spreadsheet.worksheets()\n",
        "\n",
        "# 清除第3到第5個工作表（index從0開始）\n",
        "for i in [2, 3, 4]:\n",
        "    ws = worksheets[i]\n",
        "    ws.clear()  # 清除該工作表所有儲存格內容\n",
        "\n",
        "worksheet = spreadsheet.get_worksheet(0)\n",
        "\n",
        "# 取得目前工作表的最大行列數\n",
        "num_rows = worksheet.row_count\n",
        "num_cols = worksheet.col_count\n",
        "\n",
        "# 產生 B2 到最後一格的範圍（如 B2:Z1000）\n",
        "from gspread.utils import rowcol_to_a1\n",
        "\n",
        "# ---------- 第一頁 ----------\n",
        "ws1 = spreadsheet.get_worksheet(0)  # 第一頁（index 從 0 開始）\n",
        "num_rows_1 = ws1.row_count\n",
        "num_cols_1 = ws1.col_count\n",
        "\n",
        "# 從 B2 到最後的範圍\n",
        "end_cell_1 = rowcol_to_a1(num_rows_1, num_cols_1)\n",
        "range1 = f\"B2:{end_cell_1}\"\n",
        "\n",
        "# ---------- 第二頁 ----------\n",
        "ws2 = spreadsheet.get_worksheet(1)  # 第二頁\n",
        "num_rows_2 = ws2.row_count\n",
        "num_cols_2 = ws2.col_count\n",
        "\n",
        "# 從 B1 到最後（整欄清除）\n",
        "end_cell_2 = rowcol_to_a1(num_rows_2, num_cols_2)\n",
        "range2 = f\"A2:{end_cell_2}\"\n",
        "\n",
        "# ---------- 執行清除 ----------\n",
        "ws1.batch_clear([range1])\n",
        "ws2.batch_clear([range2])\n",
        "\n",
        "print(f\"已清除第一頁範圍：{range1}\")\n",
        "print(f\"已清除第二頁範圍：{range2}\")"
      ],
      "metadata": {
        "colab": {
          "base_uri": "https://localhost:8080/"
        },
        "id": "MXs6I-tivclT",
        "outputId": "31605125-4e8d-4498-c144-697d95f010bd"
      },
      "execution_count": null,
      "outputs": [
        {
          "output_type": "stream",
          "name": "stdout",
          "text": [
            "已清除第一頁範圍：B2:Z1000\n",
            "已清除第二頁範圍：A2:Z1000\n"
          ]
        }
      ]
    }
  ]
}